{
 "cells": [
  {
   "cell_type": "code",
   "execution_count": 1,
   "id": "9cd7dd06-86b2-4ca5-a4aa-97dbf68750ad",
   "metadata": {},
   "outputs": [
    {
     "data": {
      "text/plain": [
       "' Ans:-the python programming language is very easy to understand and it has so simple and reliable code,which help to run the code in easy way. the python has so many liabraries which help to analyse the data in veries way.'"
      ]
     },
     "execution_count": 1,
     "metadata": {},
     "output_type": "execute_result"
    }
   ],
   "source": [
    "#Explain the key features of python that make it a popular Choice for programming?\n",
    "''' Ans:-the python programming language is very easy to understand and it has so simple and reliable code,which help to run the code in easy way. the python has so many liabraries which help to analyse the data in veries way.'''"
   ]
  },
  {
   "cell_type": "code",
   "execution_count": 2,
   "id": "73e68b6d-6a48-4810-ad2a-619cc639608c",
   "metadata": {},
   "outputs": [
    {
     "data": {
      "text/plain": [
       "'Ans:-a predefined word that python reserves for working programs that have a specific meaning, the prefined is placeholder where we keep variets of data which we can use to write logic.\\n we can find the type of data like it is string,Intergers,Float or Boolen.\\n ex.'"
      ]
     },
     "execution_count": 2,
     "metadata": {},
     "output_type": "execute_result"
    }
   ],
   "source": [
    "#Describe the role of predefined keywords in Python and provide examples of how they are used in a program.\n",
    "'''Ans:-a predefined word that python reserves for working programs that have a specific meaning, the prefined is placeholder where we keep variets of data which we can use to write logic.\n",
    " we can find the type of data like it is string,Intergers,Float or Boolen.\n",
    " ex.'''"
   ]
  },
  {
   "cell_type": "code",
   "execution_count": 3,
   "id": "c2bf79d3-d765-481e-9b50-cbe0bb3cda7a",
   "metadata": {},
   "outputs": [
    {
     "name": "stdout",
     "output_type": "stream",
     "text": [
      "krishna kapse\n"
     ]
    }
   ],
   "source": [
    "print(\"krishna kapse\") #ex. of predefined keys string"
   ]
  },
  {
   "cell_type": "code",
   "execution_count": 4,
   "id": "bd2afb5f-2820-4883-baa4-319429f635f2",
   "metadata": {},
   "outputs": [
    {
     "data": {
      "text/plain": [
       "'Ans:- mutable values are changed after they created, and immutable values are not changed after they created.\\nmutable type is List and Immutable type is string.\\nEx.'"
      ]
     },
     "execution_count": 4,
     "metadata": {},
     "output_type": "execute_result"
    }
   ],
   "source": [
    "#Compare and contrast mutable and immutable objects in Python with examples.\n",
    "'''Ans:- mutable values are changed after they created, and immutable values are not changed after they created.\n",
    "mutable type is List and Immutable type is string.\n",
    "Ex.'''"
   ]
  },
  {
   "cell_type": "code",
   "execution_count": 5,
   "id": "465b8f05-ad6a-4e9c-8f23-3029a45f2c2e",
   "metadata": {},
   "outputs": [
    {
     "data": {
      "text/plain": [
       "[2, 4, 6, 8, 'krishna']"
      ]
     },
     "execution_count": 5,
     "metadata": {},
     "output_type": "execute_result"
    }
   ],
   "source": [
    "list_cont = [2, 4, 6, 8, \"krishna\"] #ex. of mutable and immutable \n",
    "list_cont"
   ]
  },
  {
   "cell_type": "code",
   "execution_count": 6,
   "id": "bcc3eb26-d3fb-494f-9a83-f511170cf735",
   "metadata": {},
   "outputs": [
    {
     "data": {
      "text/plain": [
       "'krishna'"
      ]
     },
     "execution_count": 6,
     "metadata": {},
     "output_type": "execute_result"
    }
   ],
   "source": [
    "list_cont[4] # mutable "
   ]
  },
  {
   "cell_type": "code",
   "execution_count": 7,
   "id": "f31478af-ea90-441c-b076-c6cd509793b6",
   "metadata": {},
   "outputs": [
    {
     "data": {
      "text/plain": [
       "[2, 4, 6, 8, 'kapse']"
      ]
     },
     "execution_count": 7,
     "metadata": {},
     "output_type": "execute_result"
    }
   ],
   "source": [
    "list_cont[4] = \"kapse\"\n",
    "list_cont # here krishna is chnaged to kapse after created object"
   ]
  },
  {
   "cell_type": "code",
   "execution_count": 8,
   "id": "d6f49f29-6fe9-4a90-8fa8-c8baad8ec171",
   "metadata": {},
   "outputs": [
    {
     "data": {
      "text/plain": [
       "'Ans:- operators are special keyword or symbols that are use to perform  operations on values or variable.\\n their are followig operators:-arithmetic, comparison, logical, Bitwise, assingment, identity, membership. \\n Ex.'"
      ]
     },
     "execution_count": 8,
     "metadata": {},
     "output_type": "execute_result"
    }
   ],
   "source": [
    "#Discuss the different types of operators in Python and provide examples of how they are used.\n",
    "'''Ans:- operators are special keyword or symbols that are use to perform  operations on values or variable.\n",
    " their are followig operators:-arithmetic, comparison, logical, Bitwise, assingment, identity, membership. \n",
    " Ex.'''"
   ]
  },
  {
   "cell_type": "code",
   "execution_count": 9,
   "id": "fd8f5c52-ef0a-430e-87c9-7aa1ed1ff053",
   "metadata": {},
   "outputs": [
    {
     "data": {
      "text/plain": [
       "21"
      ]
     },
     "execution_count": 9,
     "metadata": {},
     "output_type": "execute_result"
    }
   ],
   "source": [
    "a = 5 #ex. AM operator\n",
    "b = 16\n",
    "a+b # arithmetic addition oprator"
   ]
  },
  {
   "cell_type": "code",
   "execution_count": 10,
   "id": "6905e063-90dc-4de9-8ac7-fb85812cab93",
   "metadata": {},
   "outputs": [
    {
     "data": {
      "text/plain": [
       "16"
      ]
     },
     "execution_count": 10,
     "metadata": {},
     "output_type": "execute_result"
    }
   ],
   "source": [
    "2 ** 4 # arithmetic square oprator"
   ]
  },
  {
   "cell_type": "code",
   "execution_count": 11,
   "id": "04e581fc-9ab9-4957-b394-40629d20364f",
   "metadata": {},
   "outputs": [
    {
     "data": {
      "text/plain": [
       "'Ans:- type casting or type conversion - it is the process of changing the data type of a value or object.\\nEx.'"
      ]
     },
     "execution_count": 11,
     "metadata": {},
     "output_type": "execute_result"
    }
   ],
   "source": [
    "#Explain the concept of type casting in Python with exaples.\n",
    "'''Ans:- type casting or type conversion - it is the process of changing the data type of a value or object.\n",
    "Ex.'''"
   ]
  },
  {
   "cell_type": "code",
   "execution_count": 12,
   "id": "82c4f3fc-4b34-44ef-8fc7-3375e104dccc",
   "metadata": {},
   "outputs": [
    {
     "data": {
      "text/plain": [
       "59"
      ]
     },
     "execution_count": 12,
     "metadata": {},
     "output_type": "execute_result"
    }
   ],
   "source": [
    "a = \"5\" # ex. of type casting\n",
    "b = 54\n",
    "int(a)+b"
   ]
  },
  {
   "cell_type": "code",
   "execution_count": 13,
   "id": "4b46af86-6b59-4723-a173-13696a2c75ac",
   "metadata": {},
   "outputs": [
    {
     "data": {
      "text/plain": [
       "str"
      ]
     },
     "execution_count": 13,
     "metadata": {},
     "output_type": "execute_result"
    }
   ],
   "source": [
    "type(a)# type is string "
   ]
  },
  {
   "cell_type": "code",
   "execution_count": 14,
   "id": "4bf7edd5-b1a2-4b1b-96ec-91e53cf75c39",
   "metadata": {},
   "outputs": [
    {
     "data": {
      "text/plain": [
       "int"
      ]
     },
     "execution_count": 14,
     "metadata": {},
     "output_type": "execute_result"
    }
   ],
   "source": [
    "type(b)"
   ]
  },
  {
   "cell_type": "code",
   "execution_count": 15,
   "id": "6160cb94-9dce-48ac-b361-6a127637210e",
   "metadata": {},
   "outputs": [
    {
     "data": {
      "text/plain": [
       "int"
      ]
     },
     "execution_count": 15,
     "metadata": {},
     "output_type": "execute_result"
    }
   ],
   "source": [
    "type(int(a))# in this stirng is converted into Integer"
   ]
  },
  {
   "cell_type": "code",
   "execution_count": 16,
   "id": "bb825ff6-64e5-431e-b0c6-9ce411cec949",
   "metadata": {},
   "outputs": [
    {
     "data": {
      "text/plain": [
       "'Ans:-Conditional statements in Python allow the program to execute specific blocks of code based on certain conditions,it helps to code decisions based on some preconditions.\\nEx.'"
      ]
     },
     "execution_count": 16,
     "metadata": {},
     "output_type": "execute_result"
    }
   ],
   "source": [
    "#How do conditional statements work in Python? Illustrate with exaples.\n",
    "'''Ans:-Conditional statements in Python allow the program to execute specific blocks of code based on certain conditions,it helps to code decisions based on some preconditions.\n",
    "Ex.'''"
   ]
  },
  {
   "cell_type": "code",
   "execution_count": 17,
   "id": "7c917ff8-6557-4970-b236-e2477325a68f",
   "metadata": {},
   "outputs": [
    {
     "name": "stdout",
     "output_type": "stream",
     "text": [
      "number is greater than 0\n"
     ]
    }
   ],
   "source": [
    "a = 100 # ex. of conditional statements\n",
    "if a>0:\n",
    "    print(\"number is greater than 0\") # in this codition the value is greater than zero so if codition is true\n",
    "else:\n",
    "    print(\"mumber is smaller than 100\") "
   ]
  },
  {
   "cell_type": "code",
   "execution_count": 18,
   "id": "6acff0cd-29ea-41e8-b809-0f65f721a440",
   "metadata": {},
   "outputs": [
    {
     "name": "stdout",
     "output_type": "stream",
     "text": [
      "mumber is smaller than 100\n"
     ]
    }
   ],
   "source": [
    "a = 100\n",
    "if a>1010:\n",
    "    print(\"number is greater than 0\") # inthis codition the value is smaller than 1010 so else coditio is true\n",
    "else:\n",
    "    print(\"mumber is smaller than 100\") "
   ]
  },
  {
   "cell_type": "code",
   "execution_count": 19,
   "id": "c7790039-5580-43be-a971-1bdbd1620e90",
   "metadata": {},
   "outputs": [
    {
     "data": {
      "text/plain": [
       "'Ans:-Loop allows you to execute a block of code repeatedly, until a condition met.\\npyhton offers two primary types of loops;- for loop, while loop.Both are used to repeat a block of code multiple times, but they differ in how they control the iteration process.\\n:- for loop:-The for loop in Python is used to iterate over a sequence (like a list, tuple, dictionary, set, or string) or other iterable objects.\\n:- while loop:-A while loop repeatedly executes a block of code as long as a given condition is True.\\nEX.'"
      ]
     },
     "execution_count": 19,
     "metadata": {},
     "output_type": "execute_result"
    }
   ],
   "source": [
    "#Describe the different types of loops in Python and their use cases with examples.\n",
    "'''Ans:-Loop allows you to execute a block of code repeatedly, until a condition met.\n",
    "pyhton offers two primary types of loops;- for loop, while loop.Both are used to repeat a block of code multiple times, but they differ in how they control the iteration process.\n",
    ":- for loop:-The for loop in Python is used to iterate over a sequence (like a list, tuple, dictionary, set, or string) or other iterable objects.\n",
    ":- while loop:-A while loop repeatedly executes a block of code as long as a given condition is True.\n",
    "EX.'''"
   ]
  },
  {
   "cell_type": "code",
   "execution_count": 20,
   "id": "44df3c5f-a020-45f9-81d1-03564c69bda9",
   "metadata": {},
   "outputs": [
    {
     "name": "stdout",
     "output_type": "stream",
     "text": [
      "1\n",
      "2\n",
      "3\n",
      "4\n",
      "5\n",
      "6\n"
     ]
    }
   ],
   "source": [
    "n = 7 #ex. of loop statement\n",
    "i = 1\n",
    "while i<n:\n",
    "    print(i)\n",
    "    i = i+1"
   ]
  },
  {
   "cell_type": "code",
   "execution_count": null,
   "id": "133a076a-4947-4f3c-addb-4857a34d2f6e",
   "metadata": {},
   "outputs": [],
   "source": []
  }
 ],
 "metadata": {
  "kernelspec": {
   "display_name": "Python 3 (ipykernel)",
   "language": "python",
   "name": "python3"
  },
  "language_info": {
   "codemirror_mode": {
    "name": "ipython",
    "version": 3
   },
   "file_extension": ".py",
   "mimetype": "text/x-python",
   "name": "python",
   "nbconvert_exporter": "python",
   "pygments_lexer": "ipython3",
   "version": "3.10.8"
  }
 },
 "nbformat": 4,
 "nbformat_minor": 5
}
